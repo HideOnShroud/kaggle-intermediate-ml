{
 "cells": [
  {
   "cell_type": "markdown",
   "id": "d6999d40",
   "metadata": {
    "papermill": {
     "duration": 0.01024,
     "end_time": "2024-08-02T18:23:45.247896",
     "exception": false,
     "start_time": "2024-08-02T18:23:45.237656",
     "status": "completed"
    },
    "tags": []
   },
   "source": [
    "**This notebook is an exercise in the [Intermediate Machine Learning](https://www.kaggle.com/learn/intermediate-machine-learning) course.  You can reference the tutorial at [this link](https://www.kaggle.com/alexisbcook/categorical-variables).**\n",
    "\n",
    "---\n"
   ]
  },
  {
   "cell_type": "markdown",
   "id": "ddb23d4d",
   "metadata": {
    "papermill": {
     "duration": 0.008941,
     "end_time": "2024-08-02T18:23:45.266293",
     "exception": false,
     "start_time": "2024-08-02T18:23:45.257352",
     "status": "completed"
    },
    "tags": []
   },
   "source": [
    "By encoding **categorical variables**, you'll obtain your best results thus far!\n",
    "\n",
    "# Setup\n",
    "\n",
    "The questions below will give you feedback on your work. Run the following cell to set up the feedback system."
   ]
  },
  {
   "cell_type": "code",
   "execution_count": 1,
   "id": "7e002367",
   "metadata": {
    "execution": {
     "iopub.execute_input": "2024-08-02T18:23:45.286401Z",
     "iopub.status.busy": "2024-08-02T18:23:45.286023Z",
     "iopub.status.idle": "2024-08-02T18:23:46.063189Z",
     "shell.execute_reply": "2024-08-02T18:23:46.061898Z"
    },
    "papermill": {
     "duration": 0.79053,
     "end_time": "2024-08-02T18:23:46.066162",
     "exception": false,
     "start_time": "2024-08-02T18:23:45.275632",
     "status": "completed"
    },
    "tags": []
   },
   "outputs": [
    {
     "name": "stdout",
     "output_type": "stream",
     "text": [
      "Setup Complete\n"
     ]
    }
   ],
   "source": [
    "# Set up code checking\n",
    "import os\n",
    "if not os.path.exists(\"../input/train.csv\"):\n",
    "    os.symlink(\"../input/home-data-for-ml-course/train.csv\", \"../input/train.csv\")  \n",
    "    os.symlink(\"../input/home-data-for-ml-course/test.csv\", \"../input/test.csv\") \n",
    "from learntools.core import binder\n",
    "binder.bind(globals())\n",
    "from learntools.ml_intermediate.ex3 import *\n",
    "print(\"Setup Complete\")"
   ]
  },
  {
   "cell_type": "markdown",
   "id": "8197068c",
   "metadata": {
    "papermill": {
     "duration": 0.009185,
     "end_time": "2024-08-02T18:23:46.085385",
     "exception": false,
     "start_time": "2024-08-02T18:23:46.076200",
     "status": "completed"
    },
    "tags": []
   },
   "source": [
    "In this exercise, you will work with data from the [Housing Prices Competition for Kaggle Learn Users](https://www.kaggle.com/c/home-data-for-ml-course). \n",
    "\n",
    "![Ames Housing dataset image](https://storage.googleapis.com/kaggle-media/learn/images/lTJVG4e.png)\n",
    "\n",
    "Run the next code cell without changes to load the training and validation sets in `X_train`, `X_valid`, `y_train`, and `y_valid`.  The test set is loaded in `X_test`."
   ]
  },
  {
   "cell_type": "code",
   "execution_count": 2,
   "id": "f6d9b4ee",
   "metadata": {
    "execution": {
     "iopub.execute_input": "2024-08-02T18:23:46.106206Z",
     "iopub.status.busy": "2024-08-02T18:23:46.105732Z",
     "iopub.status.idle": "2024-08-02T18:23:47.271589Z",
     "shell.execute_reply": "2024-08-02T18:23:47.270721Z"
    },
    "papermill": {
     "duration": 1.178666,
     "end_time": "2024-08-02T18:23:47.274092",
     "exception": false,
     "start_time": "2024-08-02T18:23:46.095426",
     "status": "completed"
    },
    "tags": []
   },
   "outputs": [],
   "source": [
    "import pandas as pd\n",
    "from sklearn.model_selection import train_test_split\n",
    "\n",
    "# Read the data\n",
    "X = pd.read_csv('../input/train.csv', index_col='Id') \n",
    "X_test = pd.read_csv('../input/test.csv', index_col='Id')\n",
    "\n",
    "# Remove rows with missing target, separate target from predictors\n",
    "X.dropna(axis=0, subset=['SalePrice'], inplace=True)\n",
    "y = X.SalePrice\n",
    "X.drop(['SalePrice'], axis=1, inplace=True)\n",
    "\n",
    "# To keep things simple, we'll drop columns with missing values\n",
    "cols_with_missing = [col for col in X.columns if X[col].isnull().any()] \n",
    "X.drop(cols_with_missing, axis=1, inplace=True)\n",
    "X_test.drop(cols_with_missing, axis=1, inplace=True)\n",
    "\n",
    "# Break off validation set from training data\n",
    "X_train, X_valid, y_train, y_valid = train_test_split(X, y,\n",
    "                                                      train_size=0.8, test_size=0.2,\n",
    "                                                      random_state=0)"
   ]
  },
  {
   "cell_type": "markdown",
   "id": "1a3dff83",
   "metadata": {
    "papermill": {
     "duration": 0.00908,
     "end_time": "2024-08-02T18:23:47.292710",
     "exception": false,
     "start_time": "2024-08-02T18:23:47.283630",
     "status": "completed"
    },
    "tags": []
   },
   "source": [
    "Use the next code cell to print the first five rows of the data."
   ]
  },
  {
   "cell_type": "code",
   "execution_count": 3,
   "id": "63df7f68",
   "metadata": {
    "execution": {
     "iopub.execute_input": "2024-08-02T18:23:47.313010Z",
     "iopub.status.busy": "2024-08-02T18:23:47.312339Z",
     "iopub.status.idle": "2024-08-02T18:23:47.335920Z",
     "shell.execute_reply": "2024-08-02T18:23:47.334925Z"
    },
    "papermill": {
     "duration": 0.036225,
     "end_time": "2024-08-02T18:23:47.338058",
     "exception": false,
     "start_time": "2024-08-02T18:23:47.301833",
     "status": "completed"
    },
    "tags": []
   },
   "outputs": [
    {
     "data": {
      "text/html": [
       "<div>\n",
       "<style scoped>\n",
       "    .dataframe tbody tr th:only-of-type {\n",
       "        vertical-align: middle;\n",
       "    }\n",
       "\n",
       "    .dataframe tbody tr th {\n",
       "        vertical-align: top;\n",
       "    }\n",
       "\n",
       "    .dataframe thead th {\n",
       "        text-align: right;\n",
       "    }\n",
       "</style>\n",
       "<table border=\"1\" class=\"dataframe\">\n",
       "  <thead>\n",
       "    <tr style=\"text-align: right;\">\n",
       "      <th></th>\n",
       "      <th>MSSubClass</th>\n",
       "      <th>MSZoning</th>\n",
       "      <th>LotArea</th>\n",
       "      <th>Street</th>\n",
       "      <th>LotShape</th>\n",
       "      <th>LandContour</th>\n",
       "      <th>Utilities</th>\n",
       "      <th>LotConfig</th>\n",
       "      <th>LandSlope</th>\n",
       "      <th>Neighborhood</th>\n",
       "      <th>...</th>\n",
       "      <th>OpenPorchSF</th>\n",
       "      <th>EnclosedPorch</th>\n",
       "      <th>3SsnPorch</th>\n",
       "      <th>ScreenPorch</th>\n",
       "      <th>PoolArea</th>\n",
       "      <th>MiscVal</th>\n",
       "      <th>MoSold</th>\n",
       "      <th>YrSold</th>\n",
       "      <th>SaleType</th>\n",
       "      <th>SaleCondition</th>\n",
       "    </tr>\n",
       "    <tr>\n",
       "      <th>Id</th>\n",
       "      <th></th>\n",
       "      <th></th>\n",
       "      <th></th>\n",
       "      <th></th>\n",
       "      <th></th>\n",
       "      <th></th>\n",
       "      <th></th>\n",
       "      <th></th>\n",
       "      <th></th>\n",
       "      <th></th>\n",
       "      <th></th>\n",
       "      <th></th>\n",
       "      <th></th>\n",
       "      <th></th>\n",
       "      <th></th>\n",
       "      <th></th>\n",
       "      <th></th>\n",
       "      <th></th>\n",
       "      <th></th>\n",
       "      <th></th>\n",
       "      <th></th>\n",
       "    </tr>\n",
       "  </thead>\n",
       "  <tbody>\n",
       "    <tr>\n",
       "      <th>619</th>\n",
       "      <td>20</td>\n",
       "      <td>RL</td>\n",
       "      <td>11694</td>\n",
       "      <td>Pave</td>\n",
       "      <td>Reg</td>\n",
       "      <td>Lvl</td>\n",
       "      <td>AllPub</td>\n",
       "      <td>Inside</td>\n",
       "      <td>Gtl</td>\n",
       "      <td>NridgHt</td>\n",
       "      <td>...</td>\n",
       "      <td>108</td>\n",
       "      <td>0</td>\n",
       "      <td>0</td>\n",
       "      <td>260</td>\n",
       "      <td>0</td>\n",
       "      <td>0</td>\n",
       "      <td>7</td>\n",
       "      <td>2007</td>\n",
       "      <td>New</td>\n",
       "      <td>Partial</td>\n",
       "    </tr>\n",
       "    <tr>\n",
       "      <th>871</th>\n",
       "      <td>20</td>\n",
       "      <td>RL</td>\n",
       "      <td>6600</td>\n",
       "      <td>Pave</td>\n",
       "      <td>Reg</td>\n",
       "      <td>Lvl</td>\n",
       "      <td>AllPub</td>\n",
       "      <td>Inside</td>\n",
       "      <td>Gtl</td>\n",
       "      <td>NAmes</td>\n",
       "      <td>...</td>\n",
       "      <td>0</td>\n",
       "      <td>0</td>\n",
       "      <td>0</td>\n",
       "      <td>0</td>\n",
       "      <td>0</td>\n",
       "      <td>0</td>\n",
       "      <td>8</td>\n",
       "      <td>2009</td>\n",
       "      <td>WD</td>\n",
       "      <td>Normal</td>\n",
       "    </tr>\n",
       "    <tr>\n",
       "      <th>93</th>\n",
       "      <td>30</td>\n",
       "      <td>RL</td>\n",
       "      <td>13360</td>\n",
       "      <td>Pave</td>\n",
       "      <td>IR1</td>\n",
       "      <td>HLS</td>\n",
       "      <td>AllPub</td>\n",
       "      <td>Inside</td>\n",
       "      <td>Gtl</td>\n",
       "      <td>Crawfor</td>\n",
       "      <td>...</td>\n",
       "      <td>0</td>\n",
       "      <td>44</td>\n",
       "      <td>0</td>\n",
       "      <td>0</td>\n",
       "      <td>0</td>\n",
       "      <td>0</td>\n",
       "      <td>8</td>\n",
       "      <td>2009</td>\n",
       "      <td>WD</td>\n",
       "      <td>Normal</td>\n",
       "    </tr>\n",
       "    <tr>\n",
       "      <th>818</th>\n",
       "      <td>20</td>\n",
       "      <td>RL</td>\n",
       "      <td>13265</td>\n",
       "      <td>Pave</td>\n",
       "      <td>IR1</td>\n",
       "      <td>Lvl</td>\n",
       "      <td>AllPub</td>\n",
       "      <td>CulDSac</td>\n",
       "      <td>Gtl</td>\n",
       "      <td>Mitchel</td>\n",
       "      <td>...</td>\n",
       "      <td>59</td>\n",
       "      <td>0</td>\n",
       "      <td>0</td>\n",
       "      <td>0</td>\n",
       "      <td>0</td>\n",
       "      <td>0</td>\n",
       "      <td>7</td>\n",
       "      <td>2008</td>\n",
       "      <td>WD</td>\n",
       "      <td>Normal</td>\n",
       "    </tr>\n",
       "    <tr>\n",
       "      <th>303</th>\n",
       "      <td>20</td>\n",
       "      <td>RL</td>\n",
       "      <td>13704</td>\n",
       "      <td>Pave</td>\n",
       "      <td>IR1</td>\n",
       "      <td>Lvl</td>\n",
       "      <td>AllPub</td>\n",
       "      <td>Corner</td>\n",
       "      <td>Gtl</td>\n",
       "      <td>CollgCr</td>\n",
       "      <td>...</td>\n",
       "      <td>81</td>\n",
       "      <td>0</td>\n",
       "      <td>0</td>\n",
       "      <td>0</td>\n",
       "      <td>0</td>\n",
       "      <td>0</td>\n",
       "      <td>1</td>\n",
       "      <td>2006</td>\n",
       "      <td>WD</td>\n",
       "      <td>Normal</td>\n",
       "    </tr>\n",
       "  </tbody>\n",
       "</table>\n",
       "<p>5 rows × 60 columns</p>\n",
       "</div>"
      ],
      "text/plain": [
       "     MSSubClass MSZoning  LotArea Street LotShape LandContour Utilities  \\\n",
       "Id                                                                        \n",
       "619          20       RL    11694   Pave      Reg         Lvl    AllPub   \n",
       "871          20       RL     6600   Pave      Reg         Lvl    AllPub   \n",
       "93           30       RL    13360   Pave      IR1         HLS    AllPub   \n",
       "818          20       RL    13265   Pave      IR1         Lvl    AllPub   \n",
       "303          20       RL    13704   Pave      IR1         Lvl    AllPub   \n",
       "\n",
       "    LotConfig LandSlope Neighborhood  ... OpenPorchSF EnclosedPorch 3SsnPorch  \\\n",
       "Id                                    ...                                       \n",
       "619    Inside       Gtl      NridgHt  ...         108             0         0   \n",
       "871    Inside       Gtl        NAmes  ...           0             0         0   \n",
       "93     Inside       Gtl      Crawfor  ...           0            44         0   \n",
       "818   CulDSac       Gtl      Mitchel  ...          59             0         0   \n",
       "303    Corner       Gtl      CollgCr  ...          81             0         0   \n",
       "\n",
       "    ScreenPorch  PoolArea  MiscVal  MoSold  YrSold SaleType SaleCondition  \n",
       "Id                                                                         \n",
       "619         260         0        0       7    2007      New       Partial  \n",
       "871           0         0        0       8    2009       WD        Normal  \n",
       "93            0         0        0       8    2009       WD        Normal  \n",
       "818           0         0        0       7    2008       WD        Normal  \n",
       "303           0         0        0       1    2006       WD        Normal  \n",
       "\n",
       "[5 rows x 60 columns]"
      ]
     },
     "execution_count": 3,
     "metadata": {},
     "output_type": "execute_result"
    }
   ],
   "source": [
    "X_train.head()"
   ]
  },
  {
   "cell_type": "markdown",
   "id": "79885189",
   "metadata": {
    "papermill": {
     "duration": 0.009477,
     "end_time": "2024-08-02T18:23:47.357132",
     "exception": false,
     "start_time": "2024-08-02T18:23:47.347655",
     "status": "completed"
    },
    "tags": []
   },
   "source": [
    "Notice that the dataset contains both numerical and categorical variables.  You'll need to encode the categorical data before training a model.\n",
    "\n",
    "To compare different models, you'll use the same `score_dataset()` function from the tutorial.  This function reports the [mean absolute error](https://en.wikipedia.org/wiki/Mean_absolute_error) (MAE) from a random forest model."
   ]
  },
  {
   "cell_type": "code",
   "execution_count": 4,
   "id": "28019aa9",
   "metadata": {
    "execution": {
     "iopub.execute_input": "2024-08-02T18:23:47.378209Z",
     "iopub.status.busy": "2024-08-02T18:23:47.377583Z",
     "iopub.status.idle": "2024-08-02T18:23:47.677723Z",
     "shell.execute_reply": "2024-08-02T18:23:47.676836Z"
    },
    "papermill": {
     "duration": 0.31339,
     "end_time": "2024-08-02T18:23:47.680146",
     "exception": false,
     "start_time": "2024-08-02T18:23:47.366756",
     "status": "completed"
    },
    "tags": []
   },
   "outputs": [],
   "source": [
    "from sklearn.ensemble import RandomForestRegressor\n",
    "from sklearn.metrics import mean_absolute_error\n",
    "\n",
    "# function for comparing different approaches\n",
    "def score_dataset(X_train, X_valid, y_train, y_valid):\n",
    "    model = RandomForestRegressor(n_estimators=100, random_state=0)\n",
    "    model.fit(X_train, y_train)\n",
    "    preds = model.predict(X_valid)\n",
    "    return mean_absolute_error(y_valid, preds)"
   ]
  },
  {
   "cell_type": "markdown",
   "id": "1c048100",
   "metadata": {
    "papermill": {
     "duration": 0.009569,
     "end_time": "2024-08-02T18:23:47.699873",
     "exception": false,
     "start_time": "2024-08-02T18:23:47.690304",
     "status": "completed"
    },
    "tags": []
   },
   "source": [
    "# Step 1: Drop columns with categorical data\n",
    "\n",
    "You'll get started with the most straightforward approach.  Use the code cell below to preprocess the data in `X_train` and `X_valid` to remove columns with categorical data.  Set the preprocessed DataFrames to `drop_X_train` and `drop_X_valid`, respectively.  "
   ]
  },
  {
   "cell_type": "code",
   "execution_count": 5,
   "id": "3126bef4",
   "metadata": {
    "execution": {
     "iopub.execute_input": "2024-08-02T18:23:47.721461Z",
     "iopub.status.busy": "2024-08-02T18:23:47.720626Z",
     "iopub.status.idle": "2024-08-02T18:23:47.730454Z",
     "shell.execute_reply": "2024-08-02T18:23:47.729476Z"
    },
    "papermill": {
     "duration": 0.02286,
     "end_time": "2024-08-02T18:23:47.732533",
     "exception": false,
     "start_time": "2024-08-02T18:23:47.709673",
     "status": "completed"
    },
    "tags": []
   },
   "outputs": [
    {
     "data": {
      "application/javascript": [
       "parent.postMessage({\"jupyterEvent\": \"custom.exercise_interaction\", \"data\": {\"outcomeType\": 1, \"valueTowardsCompletion\": 0.5, \"interactionType\": 1, \"questionType\": 2, \"questionId\": \"1_Drop\", \"learnToolsVersion\": \"0.3.4\", \"failureMessage\": \"\", \"exceptionClass\": \"\", \"trace\": \"\"}}, \"*\")"
      ],
      "text/plain": [
       "<IPython.core.display.Javascript object>"
      ]
     },
     "metadata": {},
     "output_type": "display_data"
    },
    {
     "data": {
      "text/markdown": [
       "<span style=\"color:#33cc33\">Correct</span>"
      ],
      "text/plain": [
       "Correct"
      ]
     },
     "metadata": {},
     "output_type": "display_data"
    }
   ],
   "source": [
    "# Fill in the lines below: drop columns in training and validation data\n",
    "drop_X_train = X_train.select_dtypes(exclude=['object'])\n",
    "drop_X_valid = X_valid.select_dtypes(exclude=['object'])\n",
    "\n",
    "# Check your answers\n",
    "step_1.check()"
   ]
  },
  {
   "cell_type": "code",
   "execution_count": 6,
   "id": "2814cbbe",
   "metadata": {
    "execution": {
     "iopub.execute_input": "2024-08-02T18:23:47.754469Z",
     "iopub.status.busy": "2024-08-02T18:23:47.754062Z",
     "iopub.status.idle": "2024-08-02T18:23:47.758584Z",
     "shell.execute_reply": "2024-08-02T18:23:47.757497Z"
    },
    "papermill": {
     "duration": 0.01827,
     "end_time": "2024-08-02T18:23:47.760852",
     "exception": false,
     "start_time": "2024-08-02T18:23:47.742582",
     "status": "completed"
    },
    "tags": []
   },
   "outputs": [],
   "source": [
    "# Lines below will give you a hint or solution code\n",
    "#step_1.hint()\n",
    "#step_1.solution()"
   ]
  },
  {
   "cell_type": "markdown",
   "id": "02df3998",
   "metadata": {
    "papermill": {
     "duration": 0.009755,
     "end_time": "2024-08-02T18:23:47.780895",
     "exception": false,
     "start_time": "2024-08-02T18:23:47.771140",
     "status": "completed"
    },
    "tags": []
   },
   "source": [
    "Run the next code cell to get the MAE for this approach."
   ]
  },
  {
   "cell_type": "code",
   "execution_count": 7,
   "id": "e467e31a",
   "metadata": {
    "execution": {
     "iopub.execute_input": "2024-08-02T18:23:47.802738Z",
     "iopub.status.busy": "2024-08-02T18:23:47.802372Z",
     "iopub.status.idle": "2024-08-02T18:23:49.036799Z",
     "shell.execute_reply": "2024-08-02T18:23:49.035780Z"
    },
    "papermill": {
     "duration": 1.24783,
     "end_time": "2024-08-02T18:23:49.038942",
     "exception": false,
     "start_time": "2024-08-02T18:23:47.791112",
     "status": "completed"
    },
    "tags": []
   },
   "outputs": [
    {
     "name": "stdout",
     "output_type": "stream",
     "text": [
      "MAE from Approach 1 (Drop categorical variables):\n",
      "17837.82570776256\n"
     ]
    }
   ],
   "source": [
    "print(\"MAE from Approach 1 (Drop categorical variables):\")\n",
    "print(score_dataset(drop_X_train, drop_X_valid, y_train, y_valid))"
   ]
  },
  {
   "cell_type": "markdown",
   "id": "4c1e1d1c",
   "metadata": {
    "papermill": {
     "duration": 0.009834,
     "end_time": "2024-08-02T18:23:49.058924",
     "exception": false,
     "start_time": "2024-08-02T18:23:49.049090",
     "status": "completed"
    },
    "tags": []
   },
   "source": [
    "Before jumping into ordinal encoding, we'll investigate the dataset.  Specifically, we'll look at the `'Condition2'` column.  The code cell below prints the unique entries in both the training and validation sets."
   ]
  },
  {
   "cell_type": "code",
   "execution_count": 8,
   "id": "d0480419",
   "metadata": {
    "execution": {
     "iopub.execute_input": "2024-08-02T18:23:49.081172Z",
     "iopub.status.busy": "2024-08-02T18:23:49.080289Z",
     "iopub.status.idle": "2024-08-02T18:23:49.087426Z",
     "shell.execute_reply": "2024-08-02T18:23:49.086495Z"
    },
    "papermill": {
     "duration": 0.020411,
     "end_time": "2024-08-02T18:23:49.089421",
     "exception": false,
     "start_time": "2024-08-02T18:23:49.069010",
     "status": "completed"
    },
    "tags": []
   },
   "outputs": [
    {
     "name": "stdout",
     "output_type": "stream",
     "text": [
      "Unique values in 'Condition2' column in training data: ['Norm' 'PosA' 'Feedr' 'PosN' 'Artery' 'RRAe']\n",
      "\n",
      "Unique values in 'Condition2' column in validation data: ['Norm' 'RRAn' 'RRNn' 'Artery' 'Feedr' 'PosN']\n"
     ]
    }
   ],
   "source": [
    "print(\"Unique values in 'Condition2' column in training data:\", X_train['Condition2'].unique())\n",
    "print(\"\\nUnique values in 'Condition2' column in validation data:\", X_valid['Condition2'].unique())"
   ]
  },
  {
   "cell_type": "markdown",
   "id": "00b925d1",
   "metadata": {
    "papermill": {
     "duration": 0.009895,
     "end_time": "2024-08-02T18:23:49.109564",
     "exception": false,
     "start_time": "2024-08-02T18:23:49.099669",
     "status": "completed"
    },
    "tags": []
   },
   "source": [
    "# Step 2: Ordinal encoding\n",
    "\n",
    "### Part A\n",
    "\n",
    "If you now write code to: \n",
    "- fit an ordinal encoder to the training data, and then \n",
    "- use it to transform both the training and validation data, \n",
    "\n",
    "you'll get an error.  Can you see why this is the case?  (_You'll need  to use the above output to answer this question._)"
   ]
  },
  {
   "cell_type": "code",
   "execution_count": 9,
   "id": "9dfd55e6",
   "metadata": {
    "execution": {
     "iopub.execute_input": "2024-08-02T18:23:49.130988Z",
     "iopub.status.busy": "2024-08-02T18:23:49.130622Z",
     "iopub.status.idle": "2024-08-02T18:23:49.138787Z",
     "shell.execute_reply": "2024-08-02T18:23:49.137838Z"
    },
    "papermill": {
     "duration": 0.021181,
     "end_time": "2024-08-02T18:23:49.140715",
     "exception": false,
     "start_time": "2024-08-02T18:23:49.119534",
     "status": "completed"
    },
    "tags": []
   },
   "outputs": [
    {
     "data": {
      "application/javascript": [
       "parent.postMessage({\"jupyterEvent\": \"custom.exercise_interaction\", \"data\": {\"outcomeType\": 1, \"valueTowardsCompletion\": 0.5, \"interactionType\": 1, \"questionType\": 4, \"questionId\": \"2.1_LabelA\", \"learnToolsVersion\": \"0.3.4\", \"failureMessage\": \"\", \"exceptionClass\": \"\", \"trace\": \"\"}}, \"*\")"
      ],
      "text/plain": [
       "<IPython.core.display.Javascript object>"
      ]
     },
     "metadata": {},
     "output_type": "display_data"
    },
    {
     "data": {
      "text/markdown": [
       "<span style=\"color:#33cc33\">Correct:</span> \n",
       "\n",
       "Fitting an ordinal encoder to a column in the training data creates a corresponding integer-valued label for each unique value **that appears in the training data**. In the case that the validation data contains values that don't also appear in the training data, the encoder will throw an error, because these values won't have an integer assigned to them.  Notice that the `'Condition2'` column in the validation data contains the values `'RRAn'` and `'RRNn'`, but these don't appear in the training data -- thus, if we try to use an ordinal encoder with scikit-learn, the code will throw an error."
      ],
      "text/plain": [
       "Correct: \n",
       "\n",
       "Fitting an ordinal encoder to a column in the training data creates a corresponding integer-valued label for each unique value **that appears in the training data**. In the case that the validation data contains values that don't also appear in the training data, the encoder will throw an error, because these values won't have an integer assigned to them.  Notice that the `'Condition2'` column in the validation data contains the values `'RRAn'` and `'RRNn'`, but these don't appear in the training data -- thus, if we try to use an ordinal encoder with scikit-learn, the code will throw an error."
      ]
     },
     "metadata": {},
     "output_type": "display_data"
    }
   ],
   "source": [
    "# Check your answer (Run this code cell to receive credit!)\n",
    "step_2.a.check()"
   ]
  },
  {
   "cell_type": "code",
   "execution_count": 10,
   "id": "d1e7f62b",
   "metadata": {
    "execution": {
     "iopub.execute_input": "2024-08-02T18:23:49.163300Z",
     "iopub.status.busy": "2024-08-02T18:23:49.162495Z",
     "iopub.status.idle": "2024-08-02T18:23:49.167385Z",
     "shell.execute_reply": "2024-08-02T18:23:49.166272Z"
    },
    "papermill": {
     "duration": 0.018554,
     "end_time": "2024-08-02T18:23:49.169532",
     "exception": false,
     "start_time": "2024-08-02T18:23:49.150978",
     "status": "completed"
    },
    "tags": []
   },
   "outputs": [],
   "source": [
    "#step_2.a.hint()"
   ]
  },
  {
   "cell_type": "markdown",
   "id": "33126268",
   "metadata": {
    "papermill": {
     "duration": 0.010344,
     "end_time": "2024-08-02T18:23:49.190608",
     "exception": false,
     "start_time": "2024-08-02T18:23:49.180264",
     "status": "completed"
    },
    "tags": []
   },
   "source": [
    "This is a common problem that you'll encounter with real-world data, and there are many approaches to fixing this issue.  For instance, you can write a custom ordinal encoder to deal with new categories.  The simplest approach, however, is to drop the problematic categorical columns.  \n",
    "\n",
    "Run the code cell below to save the problematic columns to a Python list `bad_label_cols`.  Likewise, columns that can be safely ordinal encoded are stored in `good_label_cols`."
   ]
  },
  {
   "cell_type": "code",
   "execution_count": 11,
   "id": "83dd50e5",
   "metadata": {
    "execution": {
     "iopub.execute_input": "2024-08-02T18:23:49.213774Z",
     "iopub.status.busy": "2024-08-02T18:23:49.213394Z",
     "iopub.status.idle": "2024-08-02T18:23:49.227342Z",
     "shell.execute_reply": "2024-08-02T18:23:49.226346Z"
    },
    "papermill": {
     "duration": 0.028256,
     "end_time": "2024-08-02T18:23:49.229596",
     "exception": false,
     "start_time": "2024-08-02T18:23:49.201340",
     "status": "completed"
    },
    "tags": []
   },
   "outputs": [
    {
     "name": "stdout",
     "output_type": "stream",
     "text": [
      "Categorical columns that will be ordinal encoded: ['MSZoning', 'Street', 'LotShape', 'LandContour', 'Utilities', 'LotConfig', 'LandSlope', 'Neighborhood', 'Condition1', 'BldgType', 'HouseStyle', 'RoofStyle', 'Exterior1st', 'Exterior2nd', 'ExterQual', 'ExterCond', 'Foundation', 'Heating', 'HeatingQC', 'CentralAir', 'KitchenQual', 'PavedDrive', 'SaleType', 'SaleCondition']\n",
      "\n",
      "Categorical columns that will be dropped from the dataset: ['RoofMatl', 'Functional', 'Condition2']\n"
     ]
    }
   ],
   "source": [
    "# Categorical columns in the training data\n",
    "object_cols = [col for col in X_train.columns if X_train[col].dtype == \"object\"]\n",
    "\n",
    "# Columns that can be safely ordinal encoded\n",
    "good_label_cols = [col for col in object_cols if \n",
    "                   set(X_valid[col]).issubset(set(X_train[col]))]\n",
    "        \n",
    "# Problematic columns that will be dropped from the dataset\n",
    "bad_label_cols = list(set(object_cols)-set(good_label_cols))\n",
    "        \n",
    "print('Categorical columns that will be ordinal encoded:', good_label_cols)\n",
    "print('\\nCategorical columns that will be dropped from the dataset:', bad_label_cols)"
   ]
  },
  {
   "cell_type": "markdown",
   "id": "b78880b6",
   "metadata": {
    "papermill": {
     "duration": 0.010529,
     "end_time": "2024-08-02T18:23:49.251049",
     "exception": false,
     "start_time": "2024-08-02T18:23:49.240520",
     "status": "completed"
    },
    "tags": []
   },
   "source": [
    "### Part B\n",
    "\n",
    "Use the next code cell to ordinal encode the data in `X_train` and `X_valid`.  Set the preprocessed DataFrames to `label_X_train` and `label_X_valid`, respectively.  \n",
    "- We have provided code below to drop the categorical columns in `bad_label_cols` from the dataset. \n",
    "- You should ordinal encode the categorical columns in `good_label_cols`.  "
   ]
  },
  {
   "cell_type": "code",
   "execution_count": 12,
   "id": "2b9e8fb7",
   "metadata": {
    "execution": {
     "iopub.execute_input": "2024-08-02T18:23:49.275119Z",
     "iopub.status.busy": "2024-08-02T18:23:49.274182Z",
     "iopub.status.idle": "2024-08-02T18:23:49.318534Z",
     "shell.execute_reply": "2024-08-02T18:23:49.317559Z"
    },
    "papermill": {
     "duration": 0.058866,
     "end_time": "2024-08-02T18:23:49.320814",
     "exception": false,
     "start_time": "2024-08-02T18:23:49.261948",
     "status": "completed"
    },
    "tags": []
   },
   "outputs": [
    {
     "data": {
      "application/javascript": [
       "parent.postMessage({\"jupyterEvent\": \"custom.exercise_interaction\", \"data\": {\"outcomeType\": 1, \"valueTowardsCompletion\": 0.5, \"interactionType\": 1, \"questionType\": 2, \"questionId\": \"2.2_LabelB\", \"learnToolsVersion\": \"0.3.4\", \"failureMessage\": \"\", \"exceptionClass\": \"\", \"trace\": \"\"}}, \"*\")"
      ],
      "text/plain": [
       "<IPython.core.display.Javascript object>"
      ]
     },
     "metadata": {},
     "output_type": "display_data"
    },
    {
     "data": {
      "text/markdown": [
       "<span style=\"color:#33cc33\">Correct</span>"
      ],
      "text/plain": [
       "Correct"
      ]
     },
     "metadata": {},
     "output_type": "display_data"
    }
   ],
   "source": [
    "from sklearn.preprocessing import OrdinalEncoder\n",
    "\n",
    "# Drop categorical columns that will not be encoded\n",
    "label_X_train = X_train.drop(bad_label_cols, axis=1)\n",
    "label_X_valid = X_valid.drop(bad_label_cols, axis=1)\n",
    "\n",
    "# Apply ordinal encoder \n",
    "# Your code here\n",
    "ordinal_encoder = OrdinalEncoder()\n",
    "label_X_train[good_label_cols] = ordinal_encoder.fit_transform(X_train[good_label_cols])\n",
    "label_X_valid[good_label_cols] = ordinal_encoder.transform(X_valid[good_label_cols])\n",
    "    \n",
    "# Check your answer\n",
    "step_2.b.check()"
   ]
  },
  {
   "cell_type": "code",
   "execution_count": 13,
   "id": "30a2e5e5",
   "metadata": {
    "execution": {
     "iopub.execute_input": "2024-08-02T18:23:49.344926Z",
     "iopub.status.busy": "2024-08-02T18:23:49.343823Z",
     "iopub.status.idle": "2024-08-02T18:23:49.348454Z",
     "shell.execute_reply": "2024-08-02T18:23:49.347469Z"
    },
    "papermill": {
     "duration": 0.018694,
     "end_time": "2024-08-02T18:23:49.350501",
     "exception": false,
     "start_time": "2024-08-02T18:23:49.331807",
     "status": "completed"
    },
    "tags": []
   },
   "outputs": [],
   "source": [
    "# Lines below will give you a hint or solution code\n",
    "#step_2.b.hint()\n",
    "#step_2.b.solution()"
   ]
  },
  {
   "cell_type": "markdown",
   "id": "241323f0",
   "metadata": {
    "papermill": {
     "duration": 0.010547,
     "end_time": "2024-08-02T18:23:49.371772",
     "exception": false,
     "start_time": "2024-08-02T18:23:49.361225",
     "status": "completed"
    },
    "tags": []
   },
   "source": [
    "Run the next code cell to get the MAE for this approach."
   ]
  },
  {
   "cell_type": "code",
   "execution_count": 14,
   "id": "1c16e0dd",
   "metadata": {
    "execution": {
     "iopub.execute_input": "2024-08-02T18:23:49.395421Z",
     "iopub.status.busy": "2024-08-02T18:23:49.394419Z",
     "iopub.status.idle": "2024-08-02T18:23:50.963367Z",
     "shell.execute_reply": "2024-08-02T18:23:50.962376Z"
    },
    "papermill": {
     "duration": 1.583202,
     "end_time": "2024-08-02T18:23:50.965686",
     "exception": false,
     "start_time": "2024-08-02T18:23:49.382484",
     "status": "completed"
    },
    "tags": []
   },
   "outputs": [
    {
     "name": "stdout",
     "output_type": "stream",
     "text": [
      "MAE from Approach 2 (Ordinal Encoding):\n",
      "17098.01649543379\n"
     ]
    }
   ],
   "source": [
    "print(\"MAE from Approach 2 (Ordinal Encoding):\") \n",
    "print(score_dataset(label_X_train, label_X_valid, y_train, y_valid))"
   ]
  },
  {
   "cell_type": "markdown",
   "id": "69000d12",
   "metadata": {
    "papermill": {
     "duration": 0.06271,
     "end_time": "2024-08-02T18:23:51.039432",
     "exception": false,
     "start_time": "2024-08-02T18:23:50.976722",
     "status": "completed"
    },
    "tags": []
   },
   "source": [
    "So far, you've tried two different approaches to dealing with categorical variables.  And, you've seen that encoding categorical data yields better results than removing columns from the dataset.\n",
    "\n",
    "Soon, you'll try one-hot encoding.  Before then, there's one additional topic we need to cover.  Begin by running the next code cell without changes.  "
   ]
  },
  {
   "cell_type": "code",
   "execution_count": 15,
   "id": "f3fb7281",
   "metadata": {
    "execution": {
     "iopub.execute_input": "2024-08-02T18:23:51.062800Z",
     "iopub.status.busy": "2024-08-02T18:23:51.062428Z",
     "iopub.status.idle": "2024-08-02T18:23:51.075221Z",
     "shell.execute_reply": "2024-08-02T18:23:51.074142Z"
    },
    "papermill": {
     "duration": 0.027106,
     "end_time": "2024-08-02T18:23:51.077493",
     "exception": false,
     "start_time": "2024-08-02T18:23:51.050387",
     "status": "completed"
    },
    "tags": []
   },
   "outputs": [
    {
     "data": {
      "text/plain": [
       "[('Street', 2),\n",
       " ('Utilities', 2),\n",
       " ('CentralAir', 2),\n",
       " ('LandSlope', 3),\n",
       " ('PavedDrive', 3),\n",
       " ('LotShape', 4),\n",
       " ('LandContour', 4),\n",
       " ('ExterQual', 4),\n",
       " ('KitchenQual', 4),\n",
       " ('MSZoning', 5),\n",
       " ('LotConfig', 5),\n",
       " ('BldgType', 5),\n",
       " ('ExterCond', 5),\n",
       " ('HeatingQC', 5),\n",
       " ('Condition2', 6),\n",
       " ('RoofStyle', 6),\n",
       " ('Foundation', 6),\n",
       " ('Heating', 6),\n",
       " ('Functional', 6),\n",
       " ('SaleCondition', 6),\n",
       " ('RoofMatl', 7),\n",
       " ('HouseStyle', 8),\n",
       " ('Condition1', 9),\n",
       " ('SaleType', 9),\n",
       " ('Exterior1st', 15),\n",
       " ('Exterior2nd', 16),\n",
       " ('Neighborhood', 25)]"
      ]
     },
     "execution_count": 15,
     "metadata": {},
     "output_type": "execute_result"
    }
   ],
   "source": [
    "# Get number of unique entries in each column with categorical data\n",
    "object_nunique = list(map(lambda col: X_train[col].nunique(), object_cols))\n",
    "d = dict(zip(object_cols, object_nunique))\n",
    "\n",
    "# Print number of unique entries by column, in ascending order\n",
    "sorted(d.items(), key=lambda x: x[1])"
   ]
  },
  {
   "cell_type": "markdown",
   "id": "f23083e6",
   "metadata": {
    "papermill": {
     "duration": 0.010687,
     "end_time": "2024-08-02T18:23:51.099623",
     "exception": false,
     "start_time": "2024-08-02T18:23:51.088936",
     "status": "completed"
    },
    "tags": []
   },
   "source": [
    "# Step 3: Investigating cardinality\n",
    "\n",
    "### Part A\n",
    "\n",
    "The output above shows, for each column with categorical data, the number of unique values in the column.  For instance, the `'Street'` column in the training data has two unique values: `'Grvl'` and `'Pave'`, corresponding to a gravel road and a paved road, respectively.\n",
    "\n",
    "We refer to the number of unique entries of a categorical variable as the **cardinality** of that categorical variable.  For instance, the `'Street'` variable has cardinality 2.\n",
    "\n",
    "Use the output above to answer the questions below."
   ]
  },
  {
   "cell_type": "code",
   "execution_count": 16,
   "id": "c41c3cb9",
   "metadata": {
    "execution": {
     "iopub.execute_input": "2024-08-02T18:23:51.123218Z",
     "iopub.status.busy": "2024-08-02T18:23:51.122528Z",
     "iopub.status.idle": "2024-08-02T18:23:51.130502Z",
     "shell.execute_reply": "2024-08-02T18:23:51.129503Z"
    },
    "papermill": {
     "duration": 0.022011,
     "end_time": "2024-08-02T18:23:51.132537",
     "exception": false,
     "start_time": "2024-08-02T18:23:51.110526",
     "status": "completed"
    },
    "tags": []
   },
   "outputs": [
    {
     "data": {
      "application/javascript": [
       "parent.postMessage({\"jupyterEvent\": \"custom.exercise_interaction\", \"data\": {\"outcomeType\": 1, \"valueTowardsCompletion\": 0.5, \"interactionType\": 1, \"questionType\": 1, \"questionId\": \"3.1_CardinalityA\", \"learnToolsVersion\": \"0.3.4\", \"failureMessage\": \"\", \"exceptionClass\": \"\", \"trace\": \"\"}}, \"*\")"
      ],
      "text/plain": [
       "<IPython.core.display.Javascript object>"
      ]
     },
     "metadata": {},
     "output_type": "display_data"
    },
    {
     "data": {
      "text/markdown": [
       "<span style=\"color:#33cc33\">Correct</span>"
      ],
      "text/plain": [
       "Correct"
      ]
     },
     "metadata": {},
     "output_type": "display_data"
    }
   ],
   "source": [
    "# Fill in the line below: How many categorical variables in the training data\n",
    "# have cardinality greater than 10?\n",
    "high_cardinality_numcols = 3\n",
    "\n",
    "# Fill in the line below: How many columns are needed to one-hot encode the \n",
    "# 'Neighborhood' variable in the training data?\n",
    "num_cols_neighborhood = 25\n",
    "\n",
    "# Check your answers\n",
    "step_3.a.check()"
   ]
  },
  {
   "cell_type": "code",
   "execution_count": 17,
   "id": "01dad078",
   "metadata": {
    "execution": {
     "iopub.execute_input": "2024-08-02T18:23:51.156479Z",
     "iopub.status.busy": "2024-08-02T18:23:51.156093Z",
     "iopub.status.idle": "2024-08-02T18:23:51.160535Z",
     "shell.execute_reply": "2024-08-02T18:23:51.159474Z"
    },
    "papermill": {
     "duration": 0.01877,
     "end_time": "2024-08-02T18:23:51.162644",
     "exception": false,
     "start_time": "2024-08-02T18:23:51.143874",
     "status": "completed"
    },
    "tags": []
   },
   "outputs": [],
   "source": [
    "# Lines below will give you a hint or solution code\n",
    "#step_3.a.hint()\n",
    "#step_3.a.solution()"
   ]
  },
  {
   "cell_type": "markdown",
   "id": "2698df6d",
   "metadata": {
    "papermill": {
     "duration": 0.011044,
     "end_time": "2024-08-02T18:23:51.185059",
     "exception": false,
     "start_time": "2024-08-02T18:23:51.174015",
     "status": "completed"
    },
    "tags": []
   },
   "source": [
    "### Part B\n",
    "\n",
    "For large datasets with many rows, one-hot encoding can greatly expand the size of the dataset.  For this reason, we typically will only one-hot encode columns with relatively low cardinality.  Then, high cardinality columns can either be dropped from the dataset, or we can use ordinal encoding.\n",
    "\n",
    "As an example, consider a dataset with 10,000 rows, and containing one categorical column with 100 unique entries.  \n",
    "- If this column is replaced with the corresponding one-hot encoding, how many entries are added to the dataset?  \n",
    "- If we instead replace the column with the ordinal encoding, how many entries are added?  \n",
    "\n",
    "Use your answers to fill in the lines below."
   ]
  },
  {
   "cell_type": "code",
   "execution_count": 18,
   "id": "6034ec8a",
   "metadata": {
    "execution": {
     "iopub.execute_input": "2024-08-02T18:23:51.209770Z",
     "iopub.status.busy": "2024-08-02T18:23:51.208870Z",
     "iopub.status.idle": "2024-08-02T18:23:51.217782Z",
     "shell.execute_reply": "2024-08-02T18:23:51.216838Z"
    },
    "papermill": {
     "duration": 0.023515,
     "end_time": "2024-08-02T18:23:51.219903",
     "exception": false,
     "start_time": "2024-08-02T18:23:51.196388",
     "status": "completed"
    },
    "tags": []
   },
   "outputs": [
    {
     "data": {
      "application/javascript": [
       "parent.postMessage({\"jupyterEvent\": \"custom.exercise_interaction\", \"data\": {\"outcomeType\": 1, \"valueTowardsCompletion\": 0.5, \"interactionType\": 1, \"questionType\": 1, \"questionId\": \"3.2_CardinalityB\", \"learnToolsVersion\": \"0.3.4\", \"failureMessage\": \"\", \"exceptionClass\": \"\", \"trace\": \"\"}}, \"*\")"
      ],
      "text/plain": [
       "<IPython.core.display.Javascript object>"
      ]
     },
     "metadata": {},
     "output_type": "display_data"
    },
    {
     "data": {
      "text/markdown": [
       "<span style=\"color:#33cc33\">Correct</span>"
      ],
      "text/plain": [
       "Correct"
      ]
     },
     "metadata": {},
     "output_type": "display_data"
    }
   ],
   "source": [
    "# Fill in the line below: How many entries are added to the dataset by \n",
    "# replacing the column with a one-hot encoding?\n",
    "OH_entries_added = 10_000*100 - 10_000\n",
    "\n",
    "# Fill in the line below: How many entries are added to the dataset by\n",
    "# replacing the column with an ordinal encoding?\n",
    "label_entries_added = 0\n",
    "\n",
    "# Check your answers\n",
    "step_3.b.check()"
   ]
  },
  {
   "cell_type": "code",
   "execution_count": 19,
   "id": "c79c1c9c",
   "metadata": {
    "execution": {
     "iopub.execute_input": "2024-08-02T18:23:51.244703Z",
     "iopub.status.busy": "2024-08-02T18:23:51.244323Z",
     "iopub.status.idle": "2024-08-02T18:23:51.248542Z",
     "shell.execute_reply": "2024-08-02T18:23:51.247536Z"
    },
    "papermill": {
     "duration": 0.018963,
     "end_time": "2024-08-02T18:23:51.250553",
     "exception": false,
     "start_time": "2024-08-02T18:23:51.231590",
     "status": "completed"
    },
    "tags": []
   },
   "outputs": [],
   "source": [
    "# Lines below will give you a hint or solution code\n",
    "#step_3.b.hint()\n",
    "#step_3.b.solution()"
   ]
  },
  {
   "cell_type": "markdown",
   "id": "66e2dc54",
   "metadata": {
    "papermill": {
     "duration": 0.011626,
     "end_time": "2024-08-02T18:23:51.274157",
     "exception": false,
     "start_time": "2024-08-02T18:23:51.262531",
     "status": "completed"
    },
    "tags": []
   },
   "source": [
    "Next, you'll experiment with one-hot encoding.  But, instead of encoding all of the categorical variables in the dataset, you'll only create a one-hot encoding for columns with cardinality less than 10.\n",
    "\n",
    "Run the code cell below without changes to set `low_cardinality_cols` to a Python list containing the columns that will be one-hot encoded.  Likewise, `high_cardinality_cols` contains a list of categorical columns that will be dropped from the dataset."
   ]
  },
  {
   "cell_type": "code",
   "execution_count": 20,
   "id": "69da1cac",
   "metadata": {
    "execution": {
     "iopub.execute_input": "2024-08-02T18:23:51.299555Z",
     "iopub.status.busy": "2024-08-02T18:23:51.299191Z",
     "iopub.status.idle": "2024-08-02T18:23:51.308741Z",
     "shell.execute_reply": "2024-08-02T18:23:51.307745Z"
    },
    "papermill": {
     "duration": 0.02474,
     "end_time": "2024-08-02T18:23:51.310780",
     "exception": false,
     "start_time": "2024-08-02T18:23:51.286040",
     "status": "completed"
    },
    "tags": []
   },
   "outputs": [
    {
     "name": "stdout",
     "output_type": "stream",
     "text": [
      "Categorical columns that will be one-hot encoded: ['MSZoning', 'Street', 'LotShape', 'LandContour', 'Utilities', 'LotConfig', 'LandSlope', 'Condition1', 'Condition2', 'BldgType', 'HouseStyle', 'RoofStyle', 'RoofMatl', 'ExterQual', 'ExterCond', 'Foundation', 'Heating', 'HeatingQC', 'CentralAir', 'KitchenQual', 'Functional', 'PavedDrive', 'SaleType', 'SaleCondition']\n",
      "\n",
      "Categorical columns that will be dropped from the dataset: ['Exterior1st', 'Exterior2nd', 'Neighborhood']\n"
     ]
    }
   ],
   "source": [
    "# Columns that will be one-hot encoded\n",
    "low_cardinality_cols = [col for col in object_cols if X_train[col].nunique() < 10]\n",
    "\n",
    "# Columns that will be dropped from the dataset\n",
    "high_cardinality_cols = list(set(object_cols)-set(low_cardinality_cols))\n",
    "\n",
    "print('Categorical columns that will be one-hot encoded:', low_cardinality_cols)\n",
    "print('\\nCategorical columns that will be dropped from the dataset:', high_cardinality_cols)"
   ]
  },
  {
   "cell_type": "markdown",
   "id": "0553e8cd",
   "metadata": {
    "papermill": {
     "duration": 0.01134,
     "end_time": "2024-08-02T18:23:51.333940",
     "exception": false,
     "start_time": "2024-08-02T18:23:51.322600",
     "status": "completed"
    },
    "tags": []
   },
   "source": [
    "# Step 4: One-hot encoding\n",
    "\n",
    "Use the next code cell to one-hot encode the data in `X_train` and `X_valid`.  Set the preprocessed DataFrames to `OH_X_train` and `OH_X_valid`, respectively.  \n",
    "- The full list of categorical columns in the dataset can be found in the Python list `object_cols`.\n",
    "- You should only one-hot encode the categorical columns in `low_cardinality_cols`.  All other categorical columns should be dropped from the dataset. "
   ]
  },
  {
   "cell_type": "code",
   "execution_count": 21,
   "id": "624fa7d4",
   "metadata": {
    "execution": {
     "iopub.execute_input": "2024-08-02T18:23:51.359436Z",
     "iopub.status.busy": "2024-08-02T18:23:51.358521Z",
     "iopub.status.idle": "2024-08-02T18:23:51.395716Z",
     "shell.execute_reply": "2024-08-02T18:23:51.394503Z"
    },
    "papermill": {
     "duration": 0.05244,
     "end_time": "2024-08-02T18:23:51.398103",
     "exception": false,
     "start_time": "2024-08-02T18:23:51.345663",
     "status": "completed"
    },
    "tags": []
   },
   "outputs": [
    {
     "name": "stderr",
     "output_type": "stream",
     "text": [
      "/opt/conda/lib/python3.10/site-packages/sklearn/preprocessing/_encoders.py:868: FutureWarning: `sparse` was renamed to `sparse_output` in version 1.2 and will be removed in 1.4. `sparse_output` is ignored unless you leave `sparse` to its default value.\n",
      "  warnings.warn(\n"
     ]
    }
   ],
   "source": [
    "from sklearn.preprocessing import OneHotEncoder\n",
    "\n",
    "# Use as many lines of code as you need!\n",
    "OH_encoder = OneHotEncoder(handle_unknown='ignore', sparse=False)\n",
    "\n",
    "OH_cols_train = pd.DataFrame(OH_encoder.fit_transform(X_train[low_cardinality_cols]))\n",
    "OH_cols_valid = pd.DataFrame(OH_encoder.transform(X_valid[low_cardinality_cols]))\n"
   ]
  },
  {
   "cell_type": "code",
   "execution_count": 22,
   "id": "085ab797",
   "metadata": {
    "execution": {
     "iopub.execute_input": "2024-08-02T18:23:51.424112Z",
     "iopub.status.busy": "2024-08-02T18:23:51.423201Z",
     "iopub.status.idle": "2024-08-02T18:23:51.427870Z",
     "shell.execute_reply": "2024-08-02T18:23:51.426910Z"
    },
    "papermill": {
     "duration": 0.019876,
     "end_time": "2024-08-02T18:23:51.429936",
     "exception": false,
     "start_time": "2024-08-02T18:23:51.410060",
     "status": "completed"
    },
    "tags": []
   },
   "outputs": [],
   "source": [
    "OH_cols_train.index = X_train.index\n",
    "OH_cols_valid.index = X_valid.index"
   ]
  },
  {
   "cell_type": "code",
   "execution_count": 23,
   "id": "1692bcdb",
   "metadata": {
    "execution": {
     "iopub.execute_input": "2024-08-02T18:23:51.454561Z",
     "iopub.status.busy": "2024-08-02T18:23:51.454190Z",
     "iopub.status.idle": "2024-08-02T18:23:51.460302Z",
     "shell.execute_reply": "2024-08-02T18:23:51.459522Z"
    },
    "papermill": {
     "duration": 0.020669,
     "end_time": "2024-08-02T18:23:51.462328",
     "exception": false,
     "start_time": "2024-08-02T18:23:51.441659",
     "status": "completed"
    },
    "tags": []
   },
   "outputs": [],
   "source": [
    "num_X_train = X_train.drop(object_cols, axis=1)\n",
    "num_X_valid = X_valid.drop(object_cols, axis=1)"
   ]
  },
  {
   "cell_type": "code",
   "execution_count": 24,
   "id": "90dd74d4",
   "metadata": {
    "execution": {
     "iopub.execute_input": "2024-08-02T18:23:51.487323Z",
     "iopub.status.busy": "2024-08-02T18:23:51.486930Z",
     "iopub.status.idle": "2024-08-02T18:23:51.497812Z",
     "shell.execute_reply": "2024-08-02T18:23:51.496801Z"
    },
    "papermill": {
     "duration": 0.025752,
     "end_time": "2024-08-02T18:23:51.499983",
     "exception": false,
     "start_time": "2024-08-02T18:23:51.474231",
     "status": "completed"
    },
    "tags": []
   },
   "outputs": [
    {
     "data": {
      "application/javascript": [
       "parent.postMessage({\"jupyterEvent\": \"custom.exercise_interaction\", \"data\": {\"outcomeType\": 1, \"valueTowardsCompletion\": 0.5, \"interactionType\": 1, \"questionType\": 2, \"questionId\": \"4_OneHot\", \"learnToolsVersion\": \"0.3.4\", \"failureMessage\": \"\", \"exceptionClass\": \"\", \"trace\": \"\"}}, \"*\")"
      ],
      "text/plain": [
       "<IPython.core.display.Javascript object>"
      ]
     },
     "metadata": {},
     "output_type": "display_data"
    },
    {
     "data": {
      "text/markdown": [
       "<span style=\"color:#33cc33\">Correct</span>"
      ],
      "text/plain": [
       "Correct"
      ]
     },
     "metadata": {},
     "output_type": "display_data"
    }
   ],
   "source": [
    "OH_X_train = pd.concat([num_X_train, OH_cols_train], axis=1)\n",
    "OH_X_valid = pd.concat([num_X_valid, OH_cols_valid], axis=1)\n",
    "\n",
    "# Check your answer\n",
    "step_4.check()"
   ]
  },
  {
   "cell_type": "code",
   "execution_count": 25,
   "id": "237b5982",
   "metadata": {
    "execution": {
     "iopub.execute_input": "2024-08-02T18:23:51.527214Z",
     "iopub.status.busy": "2024-08-02T18:23:51.526355Z",
     "iopub.status.idle": "2024-08-02T18:23:51.531481Z",
     "shell.execute_reply": "2024-08-02T18:23:51.530533Z"
    },
    "papermill": {
     "duration": 0.021431,
     "end_time": "2024-08-02T18:23:51.533455",
     "exception": false,
     "start_time": "2024-08-02T18:23:51.512024",
     "status": "completed"
    },
    "tags": []
   },
   "outputs": [],
   "source": [
    "OH_X_train.columns = OH_X_train.columns.astype(str)\n",
    "OH_X_valid.columns = OH_X_valid.columns.astype(str)"
   ]
  },
  {
   "cell_type": "code",
   "execution_count": 26,
   "id": "8e165ee7",
   "metadata": {
    "execution": {
     "iopub.execute_input": "2024-08-02T18:23:51.559120Z",
     "iopub.status.busy": "2024-08-02T18:23:51.558740Z",
     "iopub.status.idle": "2024-08-02T18:23:51.563052Z",
     "shell.execute_reply": "2024-08-02T18:23:51.562101Z"
    },
    "papermill": {
     "duration": 0.019528,
     "end_time": "2024-08-02T18:23:51.565132",
     "exception": false,
     "start_time": "2024-08-02T18:23:51.545604",
     "status": "completed"
    },
    "tags": []
   },
   "outputs": [],
   "source": [
    "# Lines below will give you a hint or solution code\n",
    "#step_4.hint()\n",
    "#step_4.solution()"
   ]
  },
  {
   "cell_type": "markdown",
   "id": "19c3a795",
   "metadata": {
    "papermill": {
     "duration": 0.01189,
     "end_time": "2024-08-02T18:23:51.589408",
     "exception": false,
     "start_time": "2024-08-02T18:23:51.577518",
     "status": "completed"
    },
    "tags": []
   },
   "source": [
    "Run the next code cell to get the MAE for this approach."
   ]
  },
  {
   "cell_type": "code",
   "execution_count": 27,
   "id": "53425190",
   "metadata": {
    "execution": {
     "iopub.execute_input": "2024-08-02T18:23:51.615374Z",
     "iopub.status.busy": "2024-08-02T18:23:51.614990Z",
     "iopub.status.idle": "2024-08-02T18:23:53.646733Z",
     "shell.execute_reply": "2024-08-02T18:23:53.645588Z"
    },
    "papermill": {
     "duration": 2.047403,
     "end_time": "2024-08-02T18:23:53.648942",
     "exception": false,
     "start_time": "2024-08-02T18:23:51.601539",
     "status": "completed"
    },
    "tags": []
   },
   "outputs": [
    {
     "name": "stdout",
     "output_type": "stream",
     "text": [
      "MAE from Approach 3 (One-Hot Encoding):\n",
      "17525.345719178084\n"
     ]
    }
   ],
   "source": [
    "print(\"MAE from Approach 3 (One-Hot Encoding):\") \n",
    "print(score_dataset(OH_X_train, OH_X_valid, y_train, y_valid))"
   ]
  },
  {
   "cell_type": "markdown",
   "id": "cb0d9cfc",
   "metadata": {
    "papermill": {
     "duration": 0.012435,
     "end_time": "2024-08-02T18:23:53.674526",
     "exception": false,
     "start_time": "2024-08-02T18:23:53.662091",
     "status": "completed"
    },
    "tags": []
   },
   "source": [
    "# Generate test predictions and submit your results\n",
    "\n",
    "After you complete Step 4, if you'd like to use what you've learned to submit your results to the leaderboard, you'll need to preprocess the test data before generating predictions.\n",
    "\n",
    "**This step is completely optional, and you do not need to submit results to the leaderboard to successfully complete the exercise.**\n",
    "\n",
    "Check out the previous exercise if you need help with remembering how to [join the competition](https://www.kaggle.com/c/home-data-for-ml-course) or save your results to CSV.  Once you have generated a file with your results, follow the instructions below:\n",
    "1. Begin by clicking on the **Save Version** button in the top right corner of the window.  This will generate a pop-up window.  \n",
    "2. Ensure that the **Save and Run All** option is selected, and then click on the **Save** button.\n",
    "3. This generates a window in the bottom left corner of the notebook.  After it has finished running, click on the number to the right of the **Save Version** button.  This pulls up a list of versions on the right of the screen.  Click on the ellipsis **(...)** to the right of the most recent version, and select **Open in Viewer**.  This brings you into view mode of the same page. You will need to scroll down to get back to these instructions.\n",
    "4. Click on the **Data** tab near the top of the screen.  Then, click on the file you would like to submit, and click on the **Submit** button to submit your results to the leaderboard.\n",
    "\n",
    "You have now successfully submitted to the competition!\n",
    "\n",
    "If you want to keep working to improve your performance, select the **Edit** button in the top right of the screen. Then you can change your code and repeat the process. There's a lot of room to improve, and you will climb up the leaderboard as you work.\n"
   ]
  },
  {
   "cell_type": "code",
   "execution_count": 28,
   "id": "fb741c56",
   "metadata": {
    "execution": {
     "iopub.execute_input": "2024-08-02T18:23:53.700494Z",
     "iopub.status.busy": "2024-08-02T18:23:53.700119Z",
     "iopub.status.idle": "2024-08-02T18:23:53.704412Z",
     "shell.execute_reply": "2024-08-02T18:23:53.703359Z"
    },
    "papermill": {
     "duration": 0.019594,
     "end_time": "2024-08-02T18:23:53.706294",
     "exception": false,
     "start_time": "2024-08-02T18:23:53.686700",
     "status": "completed"
    },
    "tags": []
   },
   "outputs": [],
   "source": [
    "# (Optional) Your code here"
   ]
  },
  {
   "cell_type": "markdown",
   "id": "1e351c4f",
   "metadata": {
    "papermill": {
     "duration": 0.011783,
     "end_time": "2024-08-02T18:23:53.730354",
     "exception": false,
     "start_time": "2024-08-02T18:23:53.718571",
     "status": "completed"
    },
    "tags": []
   },
   "source": [
    "# Keep going\n",
    "\n",
    "With missing value handling and categorical encoding, your modeling process is getting complex. This complexity gets worse when you want to save your model to use in the future. The key to managing this complexity is something called **pipelines**. \n",
    "\n",
    "**[Learn to use pipelines](https://www.kaggle.com/alexisbcook/pipelines)** to preprocess datasets with categorical variables, missing values and any other messiness your data throws at you."
   ]
  },
  {
   "cell_type": "markdown",
   "id": "8eef339b",
   "metadata": {
    "papermill": {
     "duration": 0.011769,
     "end_time": "2024-08-02T18:23:53.754123",
     "exception": false,
     "start_time": "2024-08-02T18:23:53.742354",
     "status": "completed"
    },
    "tags": []
   },
   "source": [
    "---\n",
    "\n",
    "\n",
    "\n",
    "\n",
    "*Have questions or comments? Visit the [course discussion forum](https://www.kaggle.com/learn/intermediate-machine-learning/discussion) to chat with other learners.*"
   ]
  }
 ],
 "metadata": {
  "kaggle": {
   "accelerator": "none",
   "dataSources": [
    {
     "databundleVersionId": 111096,
     "sourceId": 10211,
     "sourceType": "competition"
    }
   ],
   "isGpuEnabled": false,
   "isInternetEnabled": false,
   "language": "python",
   "sourceType": "notebook"
  },
  "kernelspec": {
   "display_name": "Python 3",
   "language": "python",
   "name": "python3"
  },
  "language_info": {
   "codemirror_mode": {
    "name": "ipython",
    "version": 3
   },
   "file_extension": ".py",
   "mimetype": "text/x-python",
   "name": "python",
   "nbconvert_exporter": "python",
   "pygments_lexer": "ipython3",
   "version": "3.10.13"
  },
  "papermill": {
   "default_parameters": {},
   "duration": 11.661132,
   "end_time": "2024-08-02T18:23:54.287368",
   "environment_variables": {},
   "exception": null,
   "input_path": "__notebook__.ipynb",
   "output_path": "__notebook__.ipynb",
   "parameters": {},
   "start_time": "2024-08-02T18:23:42.626236",
   "version": "2.5.0"
  }
 },
 "nbformat": 4,
 "nbformat_minor": 5
}
