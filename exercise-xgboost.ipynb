{
 "cells": [
  {
   "cell_type": "markdown",
   "id": "2ca1d8d1",
   "metadata": {
    "papermill": {
     "duration": 0.00557,
     "end_time": "2024-08-05T16:00:08.145146",
     "exception": false,
     "start_time": "2024-08-05T16:00:08.139576",
     "status": "completed"
    },
    "tags": []
   },
   "source": [
    "**This notebook is an exercise in the [Intermediate Machine Learning](https://www.kaggle.com/learn/intermediate-machine-learning) course.  You can reference the tutorial at [this link](https://www.kaggle.com/alexisbcook/xgboost).**\n",
    "\n",
    "---\n"
   ]
  },
  {
   "cell_type": "markdown",
   "id": "a7f40d90",
   "metadata": {
    "papermill": {
     "duration": 0.004518,
     "end_time": "2024-08-05T16:00:08.154837",
     "exception": false,
     "start_time": "2024-08-05T16:00:08.150319",
     "status": "completed"
    },
    "tags": []
   },
   "source": [
    "In this exercise, you will use your new knowledge to train a model with **gradient boosting**.\n",
    "\n",
    "# Setup\n",
    "\n",
    "The questions below will give you feedback on your work. Run the following cell to set up the feedback system."
   ]
  },
  {
   "cell_type": "code",
   "execution_count": 1,
   "id": "40224778",
   "metadata": {
    "execution": {
     "iopub.execute_input": "2024-08-05T16:00:08.166000Z",
     "iopub.status.busy": "2024-08-05T16:00:08.165639Z",
     "iopub.status.idle": "2024-08-05T16:00:10.941131Z",
     "shell.execute_reply": "2024-08-05T16:00:10.940115Z"
    },
    "papermill": {
     "duration": 2.783619,
     "end_time": "2024-08-05T16:00:10.943330",
     "exception": false,
     "start_time": "2024-08-05T16:00:08.159711",
     "status": "completed"
    },
    "tags": []
   },
   "outputs": [
    {
     "name": "stdout",
     "output_type": "stream",
     "text": [
      "Setup Complete\n"
     ]
    }
   ],
   "source": [
    "# Set up code checking\n",
    "import os\n",
    "if not os.path.exists(\"../input/train.csv\"):\n",
    "    os.symlink(\"../input/home-data-for-ml-course/train.csv\", \"../input/train.csv\")  \n",
    "    os.symlink(\"../input/home-data-for-ml-course/test.csv\", \"../input/test.csv\") \n",
    "from learntools.core import binder\n",
    "binder.bind(globals())\n",
    "from learntools.ml_intermediate.ex6 import *\n",
    "print(\"Setup Complete\")"
   ]
  },
  {
   "cell_type": "markdown",
   "id": "cef54cc0",
   "metadata": {
    "papermill": {
     "duration": 0.004705,
     "end_time": "2024-08-05T16:00:10.953019",
     "exception": false,
     "start_time": "2024-08-05T16:00:10.948314",
     "status": "completed"
    },
    "tags": []
   },
   "source": [
    "You will work with the [Housing Prices Competition for Kaggle Learn Users](https://www.kaggle.com/c/home-data-for-ml-course) dataset from the previous exercise. \n",
    "\n",
    "![Ames Housing dataset image](https://storage.googleapis.com/kaggle-media/learn/images/lTJVG4e.png)\n",
    "\n",
    "Run the next code cell without changes to load the training and validation sets in `X_train`, `X_valid`, `y_train`, and `y_valid`.  The test set is loaded in `X_test`."
   ]
  },
  {
   "cell_type": "code",
   "execution_count": 2,
   "id": "11e2c504",
   "metadata": {
    "execution": {
     "iopub.execute_input": "2024-08-05T16:00:10.964710Z",
     "iopub.status.busy": "2024-08-05T16:00:10.963835Z",
     "iopub.status.idle": "2024-08-05T16:00:11.120284Z",
     "shell.execute_reply": "2024-08-05T16:00:11.119240Z"
    },
    "papermill": {
     "duration": 0.164838,
     "end_time": "2024-08-05T16:00:11.122696",
     "exception": false,
     "start_time": "2024-08-05T16:00:10.957858",
     "status": "completed"
    },
    "tags": []
   },
   "outputs": [],
   "source": [
    "import pandas as pd\n",
    "from sklearn.model_selection import train_test_split\n",
    "\n",
    "# Read the data\n",
    "X = pd.read_csv('../input/train.csv', index_col='Id')\n",
    "X_test_full = pd.read_csv('../input/test.csv', index_col='Id')\n",
    "\n",
    "# Remove rows with missing target, separate target from predictors\n",
    "X.dropna(axis=0, subset=['SalePrice'], inplace=True)\n",
    "y = X.SalePrice              \n",
    "X.drop(['SalePrice'], axis=1, inplace=True)\n",
    "\n",
    "# Break off validation set from training data\n",
    "X_train_full, X_valid_full, y_train, y_valid = train_test_split(X, y, train_size=0.8, test_size=0.2,\n",
    "                                                                random_state=0)\n",
    "\n",
    "# \"Cardinality\" means the number of unique values in a column\n",
    "# Select categorical columns with relatively low cardinality (convenient but arbitrary)\n",
    "low_cardinality_cols = [cname for cname in X_train_full.columns if X_train_full[cname].nunique() < 10 and \n",
    "                        X_train_full[cname].dtype == \"object\"]\n",
    "\n",
    "# Select numeric columns\n",
    "numeric_cols = [cname for cname in X_train_full.columns if X_train_full[cname].dtype in ['int64', 'float64']]\n",
    "\n",
    "# Keep selected columns only\n",
    "my_cols = low_cardinality_cols + numeric_cols\n",
    "X_train = X_train_full[my_cols].copy()\n",
    "X_valid = X_valid_full[my_cols].copy()\n",
    "X_test = X_test_full[my_cols].copy()\n",
    "\n",
    "# One-hot encode the data (to shorten the code, we use pandas)\n",
    "X_train = pd.get_dummies(X_train)\n",
    "X_valid = pd.get_dummies(X_valid)\n",
    "X_test = pd.get_dummies(X_test)\n",
    "X_train, X_valid = X_train.align(X_valid, join='left', axis=1)\n",
    "X_train, X_test = X_train.align(X_test, join='left', axis=1)"
   ]
  },
  {
   "cell_type": "markdown",
   "id": "371324e4",
   "metadata": {
    "papermill": {
     "duration": 0.004814,
     "end_time": "2024-08-05T16:00:11.132625",
     "exception": false,
     "start_time": "2024-08-05T16:00:11.127811",
     "status": "completed"
    },
    "tags": []
   },
   "source": [
    "# Step 1: Build model\n",
    "\n",
    "### Part A\n",
    "\n",
    "In this step, you'll build and train your first model with gradient boosting.\n",
    "\n",
    "- Begin by setting `my_model_1` to an XGBoost model.  Use the [XGBRegressor](https://xgboost.readthedocs.io/en/latest/python/python_api.html#xgboost.XGBRegressor) class, and set the random seed to 0 (`random_state=0`).  **Leave all other parameters as default.**\n",
    "- Then, fit the model to the training data in `X_train` and `y_train`."
   ]
  },
  {
   "cell_type": "code",
   "execution_count": 3,
   "id": "a44653c8",
   "metadata": {
    "execution": {
     "iopub.execute_input": "2024-08-05T16:00:11.144506Z",
     "iopub.status.busy": "2024-08-05T16:00:11.143565Z",
     "iopub.status.idle": "2024-08-05T16:00:11.598844Z",
     "shell.execute_reply": "2024-08-05T16:00:11.597866Z"
    },
    "papermill": {
     "duration": 0.463357,
     "end_time": "2024-08-05T16:00:11.600885",
     "exception": false,
     "start_time": "2024-08-05T16:00:11.137528",
     "status": "completed"
    },
    "tags": []
   },
   "outputs": [
    {
     "data": {
      "application/javascript": [
       "parent.postMessage({\"jupyterEvent\": \"custom.exercise_interaction\", \"data\": {\"outcomeType\": 1, \"valueTowardsCompletion\": 0.5, \"interactionType\": 1, \"questionType\": 2, \"questionId\": \"1.1_Model1A\", \"learnToolsVersion\": \"0.3.4\", \"failureMessage\": \"\", \"exceptionClass\": \"\", \"trace\": \"\"}}, \"*\")"
      ],
      "text/plain": [
       "<IPython.core.display.Javascript object>"
      ]
     },
     "metadata": {},
     "output_type": "display_data"
    },
    {
     "data": {
      "text/markdown": [
       "<span style=\"color:#33cc33\">Correct</span>"
      ],
      "text/plain": [
       "Correct"
      ]
     },
     "metadata": {},
     "output_type": "display_data"
    }
   ],
   "source": [
    "from xgboost import XGBRegressor\n",
    "\n",
    "# Define the model\n",
    "my_model_1 = XGBRegressor(random_state=0) # Your code here\n",
    "\n",
    "# Fit the model\n",
    "my_model_1.fit(X_train,y_train) # Your code here\n",
    "\n",
    "# Check your answer\n",
    "step_1.a.check()"
   ]
  },
  {
   "cell_type": "code",
   "execution_count": 4,
   "id": "9438c2d1",
   "metadata": {
    "execution": {
     "iopub.execute_input": "2024-08-05T16:00:11.613247Z",
     "iopub.status.busy": "2024-08-05T16:00:11.612569Z",
     "iopub.status.idle": "2024-08-05T16:00:11.616711Z",
     "shell.execute_reply": "2024-08-05T16:00:11.615734Z"
    },
    "papermill": {
     "duration": 0.012564,
     "end_time": "2024-08-05T16:00:11.618831",
     "exception": false,
     "start_time": "2024-08-05T16:00:11.606267",
     "status": "completed"
    },
    "tags": []
   },
   "outputs": [],
   "source": [
    "# Lines below will give you a hint or solution code\n",
    "#step_1.a.hint()\n",
    "#step_1.a.solution()"
   ]
  },
  {
   "cell_type": "markdown",
   "id": "fae0ba78",
   "metadata": {
    "papermill": {
     "duration": 0.005305,
     "end_time": "2024-08-05T16:00:11.629700",
     "exception": false,
     "start_time": "2024-08-05T16:00:11.624395",
     "status": "completed"
    },
    "tags": []
   },
   "source": [
    "### Part B\n",
    "\n",
    "Set `predictions_1` to the model's predictions for the validation data.  Recall that the validation features are stored in `X_valid`."
   ]
  },
  {
   "cell_type": "code",
   "execution_count": 5,
   "id": "1e87ce65",
   "metadata": {
    "execution": {
     "iopub.execute_input": "2024-08-05T16:00:11.641801Z",
     "iopub.status.busy": "2024-08-05T16:00:11.640969Z",
     "iopub.status.idle": "2024-08-05T16:00:11.681910Z",
     "shell.execute_reply": "2024-08-05T16:00:11.680905Z"
    },
    "papermill": {
     "duration": 0.050346,
     "end_time": "2024-08-05T16:00:11.685164",
     "exception": false,
     "start_time": "2024-08-05T16:00:11.634818",
     "status": "completed"
    },
    "tags": []
   },
   "outputs": [
    {
     "data": {
      "application/javascript": [
       "parent.postMessage({\"jupyterEvent\": \"custom.exercise_interaction\", \"data\": {\"outcomeType\": 1, \"valueTowardsCompletion\": 0.5, \"interactionType\": 1, \"questionType\": 2, \"questionId\": \"1.2_Model1B\", \"learnToolsVersion\": \"0.3.4\", \"failureMessage\": \"\", \"exceptionClass\": \"\", \"trace\": \"\"}}, \"*\")"
      ],
      "text/plain": [
       "<IPython.core.display.Javascript object>"
      ]
     },
     "metadata": {},
     "output_type": "display_data"
    },
    {
     "data": {
      "text/markdown": [
       "<span style=\"color:#33cc33\">Correct</span>"
      ],
      "text/plain": [
       "Correct"
      ]
     },
     "metadata": {},
     "output_type": "display_data"
    }
   ],
   "source": [
    "from sklearn.metrics import mean_absolute_error\n",
    "\n",
    "# Get predictions\n",
    "predictions_1 = my_model_1.predict(X_valid) # Your code here\n",
    "\n",
    "# Check your answer\n",
    "step_1.b.check()"
   ]
  },
  {
   "cell_type": "code",
   "execution_count": 6,
   "id": "fcba0055",
   "metadata": {
    "execution": {
     "iopub.execute_input": "2024-08-05T16:00:11.698001Z",
     "iopub.status.busy": "2024-08-05T16:00:11.697197Z",
     "iopub.status.idle": "2024-08-05T16:00:11.701512Z",
     "shell.execute_reply": "2024-08-05T16:00:11.700522Z"
    },
    "papermill": {
     "duration": 0.012743,
     "end_time": "2024-08-05T16:00:11.703471",
     "exception": false,
     "start_time": "2024-08-05T16:00:11.690728",
     "status": "completed"
    },
    "tags": []
   },
   "outputs": [],
   "source": [
    "# Lines below will give you a hint or solution code\n",
    "#step_1.b.hint()\n",
    "#step_1.b.solution()"
   ]
  },
  {
   "cell_type": "markdown",
   "id": "5c7095f4",
   "metadata": {
    "papermill": {
     "duration": 0.005222,
     "end_time": "2024-08-05T16:00:11.714080",
     "exception": false,
     "start_time": "2024-08-05T16:00:11.708858",
     "status": "completed"
    },
    "tags": []
   },
   "source": [
    "### Part C\n",
    "\n",
    "Finally, use the `mean_absolute_error()` function to calculate the mean absolute error (MAE) corresponding to the predictions for the validation set.  Recall that the labels for the validation data are stored in `y_valid`."
   ]
  },
  {
   "cell_type": "code",
   "execution_count": 7,
   "id": "5ff8c4f0",
   "metadata": {
    "execution": {
     "iopub.execute_input": "2024-08-05T16:00:11.726552Z",
     "iopub.status.busy": "2024-08-05T16:00:11.726195Z",
     "iopub.status.idle": "2024-08-05T16:00:11.735868Z",
     "shell.execute_reply": "2024-08-05T16:00:11.734902Z"
    },
    "papermill": {
     "duration": 0.018766,
     "end_time": "2024-08-05T16:00:11.738376",
     "exception": false,
     "start_time": "2024-08-05T16:00:11.719610",
     "status": "completed"
    },
    "tags": []
   },
   "outputs": [
    {
     "name": "stdout",
     "output_type": "stream",
     "text": [
      "Mean Absolute Error: 18161.82412510702\n"
     ]
    },
    {
     "data": {
      "application/javascript": [
       "parent.postMessage({\"jupyterEvent\": \"custom.exercise_interaction\", \"data\": {\"outcomeType\": 1, \"valueTowardsCompletion\": 0.5, \"interactionType\": 1, \"questionType\": 2, \"questionId\": \"1.3_Model1C\", \"learnToolsVersion\": \"0.3.4\", \"failureMessage\": \"\", \"exceptionClass\": \"\", \"trace\": \"\"}}, \"*\")"
      ],
      "text/plain": [
       "<IPython.core.display.Javascript object>"
      ]
     },
     "metadata": {},
     "output_type": "display_data"
    },
    {
     "data": {
      "text/markdown": [
       "<span style=\"color:#33cc33\">Correct</span>"
      ],
      "text/plain": [
       "Correct"
      ]
     },
     "metadata": {},
     "output_type": "display_data"
    }
   ],
   "source": [
    "# Calculate MAE\n",
    "mae_1 = mean_absolute_error(predictions_1, y_valid) # Your code here\n",
    "\n",
    "# Uncomment to print MAE\n",
    "print(\"Mean Absolute Error:\" , mae_1)\n",
    "\n",
    "# Check your answer\n",
    "step_1.c.check()"
   ]
  },
  {
   "cell_type": "code",
   "execution_count": 8,
   "id": "46c0c079",
   "metadata": {
    "execution": {
     "iopub.execute_input": "2024-08-05T16:00:11.751358Z",
     "iopub.status.busy": "2024-08-05T16:00:11.750979Z",
     "iopub.status.idle": "2024-08-05T16:00:11.755136Z",
     "shell.execute_reply": "2024-08-05T16:00:11.754146Z"
    },
    "papermill": {
     "duration": 0.012903,
     "end_time": "2024-08-05T16:00:11.757066",
     "exception": false,
     "start_time": "2024-08-05T16:00:11.744163",
     "status": "completed"
    },
    "tags": []
   },
   "outputs": [],
   "source": [
    "# Lines below will give you a hint or solution code\n",
    "#step_1.c.hint()\n",
    "#step_1.c.solution()"
   ]
  },
  {
   "cell_type": "markdown",
   "id": "c593a5bf",
   "metadata": {
    "papermill": {
     "duration": 0.006137,
     "end_time": "2024-08-05T16:00:11.769379",
     "exception": false,
     "start_time": "2024-08-05T16:00:11.763242",
     "status": "completed"
    },
    "tags": []
   },
   "source": [
    "# Step 2: Improve the model\n",
    "\n",
    "Now that you've trained a default model as baseline, it's time to tinker with the parameters, to see if you can get better performance!\n",
    "- Begin by setting `my_model_2` to an XGBoost model, using the [XGBRegressor](https://xgboost.readthedocs.io/en/latest/python/python_api.html#xgboost.XGBRegressor) class.  Use what you learned in the previous tutorial to figure out how to change the default parameters (like `n_estimators` and `learning_rate`) to get better results.\n",
    "- Then, fit the model to the training data in `X_train` and `y_train`.\n",
    "- Set `predictions_2` to the model's predictions for the validation data.  Recall that the validation features are stored in `X_valid`.\n",
    "- Finally, use the `mean_absolute_error()` function to calculate the mean absolute error (MAE) corresponding to the predictions on the validation set.  Recall that the labels for the validation data are stored in `y_valid`.\n",
    "\n",
    "In order for this step to be marked correct, your model in `my_model_2` must attain lower MAE than the model in `my_model_1`. "
   ]
  },
  {
   "cell_type": "code",
   "execution_count": 9,
   "id": "d46fecb9",
   "metadata": {
    "execution": {
     "iopub.execute_input": "2024-08-05T16:00:11.782164Z",
     "iopub.status.busy": "2024-08-05T16:00:11.781770Z",
     "iopub.status.idle": "2024-08-05T16:00:13.381656Z",
     "shell.execute_reply": "2024-08-05T16:00:13.380629Z"
    },
    "papermill": {
     "duration": 1.608981,
     "end_time": "2024-08-05T16:00:13.383890",
     "exception": false,
     "start_time": "2024-08-05T16:00:11.774909",
     "status": "completed"
    },
    "tags": []
   },
   "outputs": [
    {
     "name": "stdout",
     "output_type": "stream",
     "text": [
      "Mean Absolute Error: 17031.526929045376\n"
     ]
    },
    {
     "data": {
      "application/javascript": [
       "parent.postMessage({\"jupyterEvent\": \"custom.exercise_interaction\", \"data\": {\"outcomeType\": 1, \"valueTowardsCompletion\": 0.5, \"interactionType\": 1, \"questionType\": 2, \"questionId\": \"2_Model2\", \"learnToolsVersion\": \"0.3.4\", \"failureMessage\": \"\", \"exceptionClass\": \"\", \"trace\": \"\"}}, \"*\")"
      ],
      "text/plain": [
       "<IPython.core.display.Javascript object>"
      ]
     },
     "metadata": {},
     "output_type": "display_data"
    },
    {
     "data": {
      "text/markdown": [
       "<span style=\"color:#33cc33\">Correct</span>"
      ],
      "text/plain": [
       "Correct"
      ]
     },
     "metadata": {},
     "output_type": "display_data"
    }
   ],
   "source": [
    "# Define the model\n",
    "my_model_2 = XGBRegressor(n_estimators=400, learning_rate=0.05, random_state=0) # Your code here\n",
    "\n",
    "# Fit the model\n",
    "my_model_2.fit(X_train, y_train) # Your code here\n",
    "\n",
    "# Get predictions\n",
    "predictions_2 = my_model_2.predict(X_valid) # Your code here\n",
    "\n",
    "# Calculate MAE\n",
    "mae_2 = mean_absolute_error(predictions_2, y_valid) # Your code here\n",
    "\n",
    "# Uncomment to print MAE\n",
    "print(\"Mean Absolute Error:\" , mae_2)\n",
    "\n",
    "# Check your answer\n",
    "step_2.check()"
   ]
  },
  {
   "cell_type": "code",
   "execution_count": 10,
   "id": "9075a0c2",
   "metadata": {
    "execution": {
     "iopub.execute_input": "2024-08-05T16:00:13.399240Z",
     "iopub.status.busy": "2024-08-05T16:00:13.398851Z",
     "iopub.status.idle": "2024-08-05T16:00:13.402883Z",
     "shell.execute_reply": "2024-08-05T16:00:13.401991Z"
    },
    "papermill": {
     "duration": 0.013464,
     "end_time": "2024-08-05T16:00:13.404906",
     "exception": false,
     "start_time": "2024-08-05T16:00:13.391442",
     "status": "completed"
    },
    "tags": []
   },
   "outputs": [],
   "source": [
    "# Lines below will give you a hint or solution code\n",
    "#step_2.hint()\n",
    "#step_2.solution()"
   ]
  },
  {
   "cell_type": "markdown",
   "id": "c2fc1dc5",
   "metadata": {
    "papermill": {
     "duration": 0.005803,
     "end_time": "2024-08-05T16:00:13.416870",
     "exception": false,
     "start_time": "2024-08-05T16:00:13.411067",
     "status": "completed"
    },
    "tags": []
   },
   "source": [
    "# Step 3: Break the model\n",
    "\n",
    "In this step, you will create a model that performs worse than the original model in Step 1.  This will help you to develop your intuition for how to set parameters.  You might even find that you accidentally get better performance, which is ultimately a nice problem to have and a valuable learning experience!\n",
    "- Begin by setting `my_model_3` to an XGBoost model, using the [XGBRegressor](https://xgboost.readthedocs.io/en/latest/python/python_api.html#xgboost.XGBRegressor) class.  Use what you learned in the previous tutorial to figure out how to change the default parameters (like `n_estimators` and `learning_rate`) to design a model to get high MAE.\n",
    "- Then, fit the model to the training data in `X_train` and `y_train`.\n",
    "- Set `predictions_3` to the model's predictions for the validation data.  Recall that the validation features are stored in `X_valid`.\n",
    "- Finally, use the `mean_absolute_error()` function to calculate the mean absolute error (MAE) corresponding to the predictions on the validation set.  Recall that the labels for the validation data are stored in `y_valid`.\n",
    "\n",
    "In order for this step to be marked correct, your model in `my_model_3` must attain higher MAE than the model in `my_model_1`. "
   ]
  },
  {
   "cell_type": "code",
   "execution_count": 11,
   "id": "5b744e61",
   "metadata": {
    "execution": {
     "iopub.execute_input": "2024-08-05T16:00:13.430366Z",
     "iopub.status.busy": "2024-08-05T16:00:13.429981Z",
     "iopub.status.idle": "2024-08-05T16:00:13.909635Z",
     "shell.execute_reply": "2024-08-05T16:00:13.908798Z"
    },
    "papermill": {
     "duration": 0.488799,
     "end_time": "2024-08-05T16:00:13.911625",
     "exception": false,
     "start_time": "2024-08-05T16:00:13.422826",
     "status": "completed"
    },
    "tags": []
   },
   "outputs": [
    {
     "name": "stdout",
     "output_type": "stream",
     "text": [
      "Mean Absolute Error: 21018.513110017124\n"
     ]
    },
    {
     "data": {
      "application/javascript": [
       "parent.postMessage({\"jupyterEvent\": \"custom.exercise_interaction\", \"data\": {\"outcomeType\": 1, \"valueTowardsCompletion\": 0.5, \"interactionType\": 1, \"questionType\": 2, \"questionId\": \"3_Model3\", \"learnToolsVersion\": \"0.3.4\", \"failureMessage\": \"\", \"exceptionClass\": \"\", \"trace\": \"\"}}, \"*\")"
      ],
      "text/plain": [
       "<IPython.core.display.Javascript object>"
      ]
     },
     "metadata": {},
     "output_type": "display_data"
    },
    {
     "data": {
      "text/markdown": [
       "<span style=\"color:#33cc33\">Correct</span>"
      ],
      "text/plain": [
       "Correct"
      ]
     },
     "metadata": {},
     "output_type": "display_data"
    }
   ],
   "source": [
    "# Define the model\n",
    "my_model_3 = XGBRegressor(n_estimators=100, learning_rate=0.5, random_state=0)\n",
    "\n",
    "# Fit the model\n",
    "my_model_3.fit(X_train, y_train) # Your code here\n",
    "\n",
    "# Get predictions\n",
    "predictions_3 = my_model_3.predict(X_valid)\n",
    "\n",
    "# Calculate MAE\n",
    "mae_3 = mean_absolute_error(predictions_3, y_valid)\n",
    "\n",
    "# Uncomment to print MAE\n",
    "print(\"Mean Absolute Error:\" , mae_3)\n",
    "\n",
    "# Check your answer\n",
    "step_3.check()"
   ]
  },
  {
   "cell_type": "code",
   "execution_count": 12,
   "id": "4d3663ee",
   "metadata": {
    "execution": {
     "iopub.execute_input": "2024-08-05T16:00:13.925964Z",
     "iopub.status.busy": "2024-08-05T16:00:13.925608Z",
     "iopub.status.idle": "2024-08-05T16:00:13.930196Z",
     "shell.execute_reply": "2024-08-05T16:00:13.928975Z"
    },
    "papermill": {
     "duration": 0.014161,
     "end_time": "2024-08-05T16:00:13.932280",
     "exception": false,
     "start_time": "2024-08-05T16:00:13.918119",
     "status": "completed"
    },
    "tags": []
   },
   "outputs": [],
   "source": [
    "# Lines below will give you a hint or solution code\n",
    "#step_3.hint()\n",
    "#step_3.solution()"
   ]
  },
  {
   "cell_type": "markdown",
   "id": "3d8159f8",
   "metadata": {
    "papermill": {
     "duration": 0.006106,
     "end_time": "2024-08-05T16:00:13.944707",
     "exception": false,
     "start_time": "2024-08-05T16:00:13.938601",
     "status": "completed"
    },
    "tags": []
   },
   "source": [
    "# Keep going\n",
    "\n",
    "Continue to learn about **[data leakage](https://www.kaggle.com/alexisbcook/data-leakage)**.  This is an important issue for a data scientist to understand, and it has the potential to ruin your models in subtle and dangerous ways!"
   ]
  },
  {
   "cell_type": "markdown",
   "id": "a5f83058",
   "metadata": {
    "papermill": {
     "duration": 0.006158,
     "end_time": "2024-08-05T16:00:13.957134",
     "exception": false,
     "start_time": "2024-08-05T16:00:13.950976",
     "status": "completed"
    },
    "tags": []
   },
   "source": [
    "---\n",
    "\n",
    "\n",
    "\n",
    "\n",
    "*Have questions or comments? Visit the [course discussion forum](https://www.kaggle.com/learn/intermediate-machine-learning/discussion) to chat with other learners.*"
   ]
  }
 ],
 "metadata": {
  "kaggle": {
   "accelerator": "none",
   "dataSources": [
    {
     "databundleVersionId": 111096,
     "sourceId": 10211,
     "sourceType": "competition"
    }
   ],
   "isGpuEnabled": false,
   "isInternetEnabled": false,
   "language": "python",
   "sourceType": "notebook"
  },
  "kernelspec": {
   "display_name": "Python 3",
   "language": "python",
   "name": "python3"
  },
  "language_info": {
   "codemirror_mode": {
    "name": "ipython",
    "version": 3
   },
   "file_extension": ".py",
   "mimetype": "text/x-python",
   "name": "python",
   "nbconvert_exporter": "python",
   "pygments_lexer": "ipython3",
   "version": "3.10.13"
  },
  "papermill": {
   "default_parameters": {},
   "duration": 8.88311,
   "end_time": "2024-08-05T16:00:14.482962",
   "environment_variables": {},
   "exception": null,
   "input_path": "__notebook__.ipynb",
   "output_path": "__notebook__.ipynb",
   "parameters": {},
   "start_time": "2024-08-05T16:00:05.599852",
   "version": "2.5.0"
  }
 },
 "nbformat": 4,
 "nbformat_minor": 5
}
